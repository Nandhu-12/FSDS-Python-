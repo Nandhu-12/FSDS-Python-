{
 "cells": [
  {
   "cell_type": "markdown",
   "id": "9ce2fdd2",
   "metadata": {},
   "source": [
    "# FSDS - Python - Assignment 23"
   ]
  },
  {
   "cell_type": "markdown",
   "id": "f816fffd",
   "metadata": {},
   "source": [
    "1. What is the result of the code, and why?"
   ]
  },
  {
   "cell_type": "code",
   "execution_count": 3,
   "id": "47fab4d2",
   "metadata": {},
   "outputs": [
    {
     "name": "stdout",
     "output_type": "stream",
     "text": [
      "1 2 8\n"
     ]
    }
   ],
   "source": [
    "def func(a, b=6, c=8):\n",
    "    print(a, b, c)\n",
    "    \n",
    "func(1, 2)"
   ]
  },
  {
   "cell_type": "markdown",
   "id": "2d386b4d",
   "metadata": {},
   "source": [
    "As the values of the parameters b and c is already defined as 6 and 8. so it assigns the values as a=1,b=2 and c by default it is 8."
   ]
  },
  {
   "cell_type": "markdown",
   "id": "f964aa8e",
   "metadata": {},
   "source": [
    "2. What is the result of this code, and why?"
   ]
  },
  {
   "cell_type": "code",
   "execution_count": 4,
   "id": "627e699a",
   "metadata": {},
   "outputs": [
    {
     "name": "stdout",
     "output_type": "stream",
     "text": [
      "1 2 3\n"
     ]
    }
   ],
   "source": [
    "def func(a, b, c=5):\n",
    "    print(a, b, c)\n",
    "    \n",
    "func(1,c=3,b= 2)"
   ]
  },
  {
   "cell_type": "markdown",
   "id": "6abdd375",
   "metadata": {},
   "source": [
    "here we have given 3 values while function call. So it overrides the existing values and assigns values accordingly and prints."
   ]
  },
  {
   "cell_type": "markdown",
   "id": "f63cb964",
   "metadata": {},
   "source": [
    "3. How about this code: what is its result, and why?"
   ]
  },
  {
   "cell_type": "code",
   "execution_count": 7,
   "id": "c3e4f81f",
   "metadata": {},
   "outputs": [
    {
     "name": "stdout",
     "output_type": "stream",
     "text": [
      "1 (2, 3)\n"
     ]
    }
   ],
   "source": [
    "def func(a, *pargs):\n",
    "    print(a,pargs)\n",
    "    \n",
    "func(1,2,3)"
   ]
  },
  {
   "cell_type": "markdown",
   "id": "a28905bb",
   "metadata": {},
   "source": [
    "here pargs is the positional arguments, it prints the value of a seperately and prints the remaining values in the form of tuples."
   ]
  },
  {
   "cell_type": "markdown",
   "id": "11663a66",
   "metadata": {},
   "source": [
    "4. What does this code print, and why?"
   ]
  },
  {
   "cell_type": "code",
   "execution_count": 8,
   "id": "2fd65e75",
   "metadata": {},
   "outputs": [
    {
     "name": "stdout",
     "output_type": "stream",
     "text": [
      "1 {'b': 3, 'c': 2}\n"
     ]
    }
   ],
   "source": [
    "def func(a, **kargs):\n",
    "    print(a,kargs)\n",
    "    \n",
    "func(a=1,b=3,c=2)"
   ]
  },
  {
   "cell_type": "markdown",
   "id": "31c51e53",
   "metadata": {},
   "source": [
    "here kargs is the keyword arguments, it prints the value of a seperately and prints the remaining values in the form of dictionary, as kargs is used to get values in dictionary format."
   ]
  },
  {
   "cell_type": "markdown",
   "id": "e4a64bcc",
   "metadata": {},
   "source": [
    "5. What gets printed by this, and explain?"
   ]
  },
  {
   "cell_type": "code",
   "execution_count": 11,
   "id": "dde00f43",
   "metadata": {},
   "outputs": [
    {
     "name": "stdout",
     "output_type": "stream",
     "text": [
      "2 5 6 5\n"
     ]
    }
   ],
   "source": [
    "def func(a,b,c=8,d=5):\n",
    "    print(a,b,c,d)\n",
    "    \n",
    "func(2,*(5,6))"
   ]
  },
  {
   "cell_type": "markdown",
   "id": "f59768f7",
   "metadata": {},
   "source": [
    "here * unwraps the tuple and assigns b=5,c=6 and the value of d is by default defined as 5"
   ]
  },
  {
   "cell_type": "markdown",
   "id": "95865529",
   "metadata": {},
   "source": [
    "6. what is the result of this, and explain?"
   ]
  },
  {
   "cell_type": "code",
   "execution_count": 13,
   "id": "baa16468",
   "metadata": {},
   "outputs": [
    {
     "data": {
      "text/plain": [
       "(1, ['x'], {'a': 0, 2: 'y'})"
      ]
     },
     "execution_count": 13,
     "metadata": {},
     "output_type": "execute_result"
    }
   ],
   "source": [
    "def func(a,b,c):\n",
    "    a = 2\n",
    "    b[0] = 'x'\n",
    "    c[a] = 'y'\n",
    "l=1\n",
    "m=[1]\n",
    "n={\"a\":0}\n",
    "    \n",
    "    \n",
    "    \n",
    "func(l,m,n)\n",
    "l,m,n"
   ]
  },
  {
   "cell_type": "code",
   "execution_count": null,
   "id": "12e77a3a",
   "metadata": {},
   "outputs": [],
   "source": []
  }
 ],
 "metadata": {
  "kernelspec": {
   "display_name": "Python 3 (ipykernel)",
   "language": "python",
   "name": "python3"
  },
  "language_info": {
   "codemirror_mode": {
    "name": "ipython",
    "version": 3
   },
   "file_extension": ".py",
   "mimetype": "text/x-python",
   "name": "python",
   "nbconvert_exporter": "python",
   "pygments_lexer": "ipython3",
   "version": "3.9.12"
  }
 },
 "nbformat": 4,
 "nbformat_minor": 5
}
