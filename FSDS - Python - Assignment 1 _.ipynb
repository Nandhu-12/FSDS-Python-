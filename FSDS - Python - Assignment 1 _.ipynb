{
 "cells": [
  {
   "cell_type": "markdown",
   "id": "c104c915",
   "metadata": {},
   "source": [
    "# FSDS - Python - Assignment 1"
   ]
  },
  {
   "cell_type": "markdown",
   "id": "92507174",
   "metadata": {},
   "source": [
    "1. In the below elements which of them are values or an expression? eg:- values can be integer or string and expressions will be mathematical operators.\n",
    "* 'hello'\n",
    "\n",
    "-87.8\n",
    "/ + 6"
   ]
  },
  {
   "cell_type": "markdown",
   "id": "337727d5",
   "metadata": {},
   "source": [
    "Answer : All the above"
   ]
  },
  {
   "cell_type": "markdown",
   "id": "1309576b",
   "metadata": {},
   "source": [
    "2. What is the difference between string and variable?"
   ]
  },
  {
   "cell_type": "markdown",
   "id": "7f5141d4",
   "metadata": {},
   "source": [
    "Answer : Variable is used to store any values. Even strings can be stored inside a variable in single or double quotes. In \n",
    "    python everything that is provided inside single or double quotes is treated as strings."
   ]
  },
  {
   "cell_type": "markdown",
   "id": "e28453a0",
   "metadata": {},
   "source": [
    "3. Describe three different data types."
   ]
  },
  {
   "cell_type": "markdown",
   "id": "e3da2fe2",
   "metadata": {},
   "source": [
    "Answer : 1) List , List is an mutable datatype and it stores the values inside []. Eg : [1,2,3]\n",
    "\n",
    "     2) Tuple, Tuple is immutable datatype and the values are stored inside (). Eg : (1,2,3)\n",
    "\n",
    "     3) Set , Set has an unordered elements with NO duplicates in it and it stores the values inside {}. Eg : {1,2,3}\n",
    "\n",
    "     4) dictinary , It has Key : Value pairs and it stores the values inside {}. Eg : {Fruit : Apple, Color : Black}"
   ]
  },
  {
   "cell_type": "markdown",
   "id": "6c02cf29",
   "metadata": {},
   "source": [
    "4. What is an expression made up of? What do all expressions do?"
   ]
  },
  {
   "cell_type": "markdown",
   "id": "4f81f4d8",
   "metadata": {},
   "source": [
    "Answer : Expressions are made up of Operators and operands.In general, Expressions are executed with the neccessary values and \n",
    "    operators to get the expected result. In Python, there are many expressions like, 1) Arithematic expression \n",
    "    2) Integral expression 3) Floating expression 4) Boolean expression 5) Logical expression etc"
   ]
  },
  {
   "cell_type": "markdown",
   "id": "250e1f11",
   "metadata": {},
   "source": [
    "5. This assignment statements, like spam = 10. What is the difference between an\n",
    "expression and a statement?"
   ]
  },
  {
   "cell_type": "markdown",
   "id": "4b9596ca",
   "metadata": {},
   "source": [
    "Answer : spam = 10, Here statements refers to the action that spam is 10 and Expression tells that the value 10 gets stored \n",
    "    into the variable spam. Expressions can also be the statements."
   ]
  },
  {
   "cell_type": "markdown",
   "id": "d1e4670e",
   "metadata": {},
   "source": [
    "6. After running the following code, what does the variable bacon contain?                                                    \n",
    "bacon = 22                                                                                                                   \n",
    "bacon + 1"
   ]
  },
  {
   "cell_type": "markdown",
   "id": "f74bb52a",
   "metadata": {},
   "source": [
    "Answer : bacon = 23"
   ]
  },
  {
   "cell_type": "markdown",
   "id": "a36e5bff",
   "metadata": {},
   "source": [
    "7. What should the values of the following two terms be?                                                                    \n",
    "'spam' + 'spamspam'                                                                                                            \n",
    "'spam'*3"
   ]
  },
  {
   "cell_type": "markdown",
   "id": "96fde0f8",
   "metadata": {},
   "source": [
    "Answer : 'spamspamspam'"
   ]
  },
  {
   "cell_type": "markdown",
   "id": "2e5a11c9",
   "metadata": {},
   "source": [
    "8. Why is eggs a valid variable name while 100 is invalid?"
   ]
  },
  {
   "cell_type": "markdown",
   "id": "9c2b5cce",
   "metadata": {},
   "source": [
    "Answer : In python, Variable names should start with letters or underscores. Here eggs is valid because it starts with letter\n",
    "    and 100 is invalid as it starts with integer."
   ]
  },
  {
   "cell_type": "markdown",
   "id": "8f9e59fd",
   "metadata": {},
   "source": [
    "9. What three functions can be used to get the integer, floating-point number, or string\n",
    "version of a value?"
   ]
  },
  {
   "cell_type": "markdown",
   "id": "1340f33e",
   "metadata": {},
   "source": [
    "Answer : int,float,str"
   ]
  },
  {
   "cell_type": "markdown",
   "id": "efc7b3b4",
   "metadata": {},
   "source": [
    "10. Why does this expression cause an error? How can you fix it?                                                          \n",
    "'I have eaten'+ 99 +'burritos.'"
   ]
  },
  {
   "cell_type": "markdown",
   "id": "d353e3fc",
   "metadata": {},
   "source": [
    "Answer : This cause error as single quotes are used inbetween the string. It can be fixed by using '\\'.\n",
    "\n",
    "\n"
   ]
  },
  {
   "cell_type": "code",
   "execution_count": 4,
   "id": "0ac2cbde",
   "metadata": {},
   "outputs": [
    {
     "name": "stdout",
     "output_type": "stream",
     "text": [
      "I have eaten'99'burritos.\n"
     ]
    }
   ],
   "source": [
    "print('I have eaten\\'99\\'burritos.')"
   ]
  },
  {
   "cell_type": "code",
   "execution_count": null,
   "id": "145e78d0",
   "metadata": {},
   "outputs": [],
   "source": []
  }
 ],
 "metadata": {
  "kernelspec": {
   "display_name": "Python 3 (ipykernel)",
   "language": "python",
   "name": "python3"
  },
  "language_info": {
   "codemirror_mode": {
    "name": "ipython",
    "version": 3
   },
   "file_extension": ".py",
   "mimetype": "text/x-python",
   "name": "python",
   "nbconvert_exporter": "python",
   "pygments_lexer": "ipython3",
   "version": "3.9.12"
  }
 },
 "nbformat": 4,
 "nbformat_minor": 5
}
