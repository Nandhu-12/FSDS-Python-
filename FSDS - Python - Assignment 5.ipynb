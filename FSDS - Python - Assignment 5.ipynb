{
 "cells": [
  {
   "cell_type": "markdown",
   "id": "4f830652",
   "metadata": {},
   "source": [
    "# FSDS - Python - Assignment 5"
   ]
  },
  {
   "cell_type": "markdown",
   "id": "98f91569",
   "metadata": {},
   "source": [
    "1. What does an empty dictionary's code look like?"
   ]
  },
  {
   "cell_type": "code",
   "execution_count": 35,
   "id": "b8b8656f",
   "metadata": {},
   "outputs": [],
   "source": [
    "a = {}"
   ]
  },
  {
   "cell_type": "code",
   "execution_count": 36,
   "id": "18891930",
   "metadata": {},
   "outputs": [
    {
     "data": {
      "text/plain": [
       "dict"
      ]
     },
     "execution_count": 36,
     "metadata": {},
     "output_type": "execute_result"
    }
   ],
   "source": [
    "type(a)"
   ]
  },
  {
   "cell_type": "markdown",
   "id": "4cacca3b",
   "metadata": {},
   "source": [
    "2. What is the value of a dictionary value with the key 'foo'; and the value 42?"
   ]
  },
  {
   "cell_type": "markdown",
   "id": "eec1cae0",
   "metadata": {},
   "source": [
    "value: 42"
   ]
  },
  {
   "cell_type": "markdown",
   "id": "630a91fd",
   "metadata": {},
   "source": [
    "3. What is the most significant distinction between a dictionary and a list?"
   ]
  },
  {
   "cell_type": "markdown",
   "id": "05c33212",
   "metadata": {},
   "source": [
    "1) The items inside the dictionary are accessed by their keys whereas in list the items are accessed by their positions.     \n",
    "2) Dictionary is unordered set and list is ordered.                                                                       \n",
    "3) Dictionary is denoted with { } and list is denoted with [ ]"
   ]
  },
  {
   "cell_type": "markdown",
   "id": "429ae74f",
   "metadata": {},
   "source": [
    "4. What happens if you try to access spam['foo'] if spam is {'bar': 100}?"
   ]
  },
  {
   "cell_type": "code",
   "execution_count": 39,
   "id": "bf3b587b",
   "metadata": {},
   "outputs": [
    {
     "ename": "TypeError",
     "evalue": "'dict' object is not callable",
     "output_type": "error",
     "traceback": [
      "\u001b[1;31m---------------------------------------------------------------------------\u001b[0m",
      "\u001b[1;31mTypeError\u001b[0m                                 Traceback (most recent call last)",
      "Input \u001b[1;32mIn [39]\u001b[0m, in \u001b[0;36m<cell line: 3>\u001b[1;34m()\u001b[0m\n\u001b[0;32m      1\u001b[0m spam \u001b[38;5;241m=\u001b[39m {\u001b[38;5;124m'\u001b[39m\u001b[38;5;124mfoo\u001b[39m\u001b[38;5;124m'\u001b[39m:\u001b[38;5;241m42\u001b[39m}\n\u001b[0;32m      2\u001b[0m spam \u001b[38;5;241m=\u001b[39m {\u001b[38;5;124m'\u001b[39m\u001b[38;5;124mbar\u001b[39m\u001b[38;5;124m'\u001b[39m:\u001b[38;5;241m100\u001b[39m}\n\u001b[1;32m----> 3\u001b[0m \u001b[43mspam\u001b[49m\u001b[43m(\u001b[49m\u001b[38;5;124;43m'\u001b[39;49m\u001b[38;5;124;43mfoo\u001b[39;49m\u001b[38;5;124;43m'\u001b[39;49m\u001b[43m)\u001b[49m\n",
      "\u001b[1;31mTypeError\u001b[0m: 'dict' object is not callable"
     ]
    }
   ],
   "source": [
    "spam = {'foo':42}\n",
    "spam = {'bar':100}\n",
    "spam('foo')"
   ]
  },
  {
   "cell_type": "markdown",
   "id": "a068db63",
   "metadata": {},
   "source": [
    "5. If a dictionary is stored in spam, what is the difference between the expressions 'cat' in spam and 'cat' in spam.keys()?"
   ]
  },
  {
   "cell_type": "code",
   "execution_count": 40,
   "id": "7e2b47f8",
   "metadata": {},
   "outputs": [
    {
     "name": "stdout",
     "output_type": "stream",
     "text": [
      "1\n",
      "2\n"
     ]
    }
   ],
   "source": [
    "spam = {'cat' : 3}\n",
    "if 'cat' in spam :\n",
    "    print(1)\n",
    "    \n",
    "if 'cat' in spam.keys():\n",
    "    print (2)"
   ]
  },
  {
   "cell_type": "markdown",
   "id": "532cc61e",
   "metadata": {},
   "source": [
    "'cat' in spam --> means the string 'cat' is present in either of keys or values in dictinary.                                 \n",
    "'cat' in spam.keys() ----> means the string 'cat' is present only in keys of dictionary or not."
   ]
  },
  {
   "cell_type": "markdown",
   "id": "5d228287",
   "metadata": {},
   "source": [
    "6. If a dictionary is stored in spam, what is the difference between the expressions 'cat' in spam and 'cat' in spam.values()?"
   ]
  },
  {
   "cell_type": "code",
   "execution_count": 41,
   "id": "4b429eb8",
   "metadata": {},
   "outputs": [
    {
     "name": "stdout",
     "output_type": "stream",
     "text": [
      "1\n"
     ]
    }
   ],
   "source": [
    "spam = {'cat' : 3}\n",
    "if 'cat' in spam :\n",
    "    print(1)\n",
    "    \n",
    "if 'cat' in spam.values():\n",
    "    print (2)"
   ]
  },
  {
   "cell_type": "markdown",
   "id": "f4129d13",
   "metadata": {},
   "source": [
    "'cat' in spam --> means the string 'cat' is present in either of keys or values in dictinary.                                \n",
    "'cat' in spam.values() ----> means the string 'cat' is present only in values of dictionary or not."
   ]
  },
  {
   "cell_type": "markdown",
   "id": "763828b9",
   "metadata": {},
   "source": [
    "7. What is a shortcut for the following code?                                                                            \n",
    "if 'color' not in spam:                                                                                              \n",
    "spam['color'] = 'black'"
   ]
  },
  {
   "cell_type": "markdown",
   "id": "0044e9a6",
   "metadata": {},
   "source": [
    "spam.update(\"color\" : \"black\")"
   ]
  },
  {
   "cell_type": "markdown",
   "id": "601669f9",
   "metadata": {},
   "source": [
    "8. How do you \"pretty print\" dictionary values using which module and function?"
   ]
  },
  {
   "cell_type": "markdown",
   "id": "4b185e37",
   "metadata": {},
   "source": [
    "import pprint"
   ]
  },
  {
   "cell_type": "code",
   "execution_count": null,
   "id": "033066e8",
   "metadata": {},
   "outputs": [],
   "source": []
  }
 ],
 "metadata": {
  "kernelspec": {
   "display_name": "Python 3 (ipykernel)",
   "language": "python",
   "name": "python3"
  },
  "language_info": {
   "codemirror_mode": {
    "name": "ipython",
    "version": 3
   },
   "file_extension": ".py",
   "mimetype": "text/x-python",
   "name": "python",
   "nbconvert_exporter": "python",
   "pygments_lexer": "ipython3",
   "version": "3.9.12"
  }
 },
 "nbformat": 4,
 "nbformat_minor": 5
}
