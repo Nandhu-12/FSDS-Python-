{
 "cells": [
  {
   "cell_type": "markdown",
   "id": "9018f1fc",
   "metadata": {},
   "source": [
    "# FSDS - Python - Assignment 22"
   ]
  },
  {
   "cell_type": "markdown",
   "id": "b51c8f2a",
   "metadata": {},
   "source": [
    "1. What is the result of the code, and explain?"
   ]
  },
  {
   "cell_type": "code",
   "execution_count": 2,
   "id": "4235eed1",
   "metadata": {},
   "outputs": [
    {
     "name": "stdout",
     "output_type": "stream",
     "text": [
      "iNeuron\n"
     ]
    }
   ],
   "source": [
    "X = \"iNeuron\"\n",
    "def func():\n",
    "    print(X)\n",
    "\n",
    "func()"
   ]
  },
  {
   "cell_type": "markdown",
   "id": "c607311d",
   "metadata": {},
   "source": [
    "here when the function func() is called, it executes the code inside def func() and as there is print statement, it prints the value of X."
   ]
  },
  {
   "cell_type": "markdown",
   "id": "85055a63",
   "metadata": {},
   "source": [
    "2. What is the result of the code, and explain?"
   ]
  },
  {
   "cell_type": "code",
   "execution_count": 3,
   "id": "e5963e52",
   "metadata": {},
   "outputs": [
    {
     "name": "stdout",
     "output_type": "stream",
     "text": [
      "iNeuron\n"
     ]
    }
   ],
   "source": [
    "X = \"iNeuron\"\n",
    "def func():\n",
    "    X = \"NI\"\n",
    "\n",
    "func()\n",
    "print(X)"
   ]
  },
  {
   "cell_type": "markdown",
   "id": "77410a65",
   "metadata": {},
   "source": [
    "here when the function func() is called,inside the func() the X value is \"NI\" and it is a local variable.                      \n",
    "As there is no print or return statement inside the function,                                                                  \n",
    "it comes out of the def func() and here the value of X is iNeuron which is declared globaly                                     \n",
    "so it prints iNeuron"
   ]
  },
  {
   "cell_type": "markdown",
   "id": "0514578d",
   "metadata": {},
   "source": [
    "3. What does this code print, and why?"
   ]
  },
  {
   "cell_type": "code",
   "execution_count": 4,
   "id": "1c8c291c",
   "metadata": {},
   "outputs": [
    {
     "name": "stdout",
     "output_type": "stream",
     "text": [
      "NI\n",
      "iNeuron\n"
     ]
    }
   ],
   "source": [
    "X = \"iNeuron\"\n",
    "def func():\n",
    "    X = \"NI\"\n",
    "    print(X)\n",
    "    \n",
    "func()\n",
    "print(X)"
   ]
  },
  {
   "cell_type": "markdown",
   "id": "19827922",
   "metadata": {},
   "source": [
    "here when the function func() is called,inside the func() the X value is \"NI\" and there is a print statement prints the local var.                                                                                                                         \n",
    "Then it comes out of the def func() and here the value of X is iNeuron which is declared globaly and so it prints iNeuron"
   ]
  },
  {
   "cell_type": "markdown",
   "id": "b518e27b",
   "metadata": {},
   "source": [
    "4. What output does this code produce? Why?"
   ]
  },
  {
   "cell_type": "code",
   "execution_count": 5,
   "id": "29f9a2b9",
   "metadata": {},
   "outputs": [
    {
     "name": "stdout",
     "output_type": "stream",
     "text": [
      "NI\n"
     ]
    }
   ],
   "source": [
    "X = \"iNeuron\"\n",
    "def func():\n",
    "    global X\n",
    "    X = \"NI\"\n",
    "    \n",
    "func()\n",
    "print(X)"
   ]
  },
  {
   "cell_type": "markdown",
   "id": "46918597",
   "metadata": {},
   "source": [
    "here when the function func() is called,inside the func() the X value is \"NI\" which is declared Globaly and so the value of X gets overrided from iNeuron to NI and it prints updated value of X"
   ]
  },
  {
   "cell_type": "markdown",
   "id": "9c33cb75",
   "metadata": {},
   "source": [
    "5. What about this code—what’s the output, and why?"
   ]
  },
  {
   "cell_type": "code",
   "execution_count": 6,
   "id": "3f536d97",
   "metadata": {},
   "outputs": [
    {
     "name": "stdout",
     "output_type": "stream",
     "text": [
      "NI\n"
     ]
    },
    {
     "data": {
      "text/plain": [
       "'iNeuron'"
      ]
     },
     "execution_count": 6,
     "metadata": {},
     "output_type": "execute_result"
    }
   ],
   "source": [
    "X = \"iNeuron\"\n",
    "def func():\n",
    "    X = \"NI\"\n",
    "    def nested():\n",
    "        print(X)\n",
    "    nested()\n",
    "    \n",
    "func()\n",
    "X"
   ]
  },
  {
   "cell_type": "markdown",
   "id": "af850975",
   "metadata": {},
   "source": [
    "here when the function func() is called,inside the func() the X value is \"NI\" and there is an nested function and that is called inside the outer function and so it excutes and prints the local variable X"
   ]
  },
  {
   "cell_type": "markdown",
   "id": "ec34bf90",
   "metadata": {},
   "source": [
    "6. How about this code: what is its output in Python 3, and explain?"
   ]
  },
  {
   "cell_type": "code",
   "execution_count": 7,
   "id": "4085d5e3",
   "metadata": {},
   "outputs": [
    {
     "name": "stdout",
     "output_type": "stream",
     "text": [
      "Spam\n"
     ]
    }
   ],
   "source": [
    "def func():\n",
    "    X = \"NI\"\n",
    "    def nested():\n",
    "        nonlocal X\n",
    "        X = \"Spam\"\n",
    "    nested()\n",
    "    print(X)\n",
    "    \n",
    "    \n",
    "func()\n"
   ]
  },
  {
   "cell_type": "markdown",
   "id": "61110bfc",
   "metadata": {},
   "source": [
    "here when the function func() is called,inside the func() the X value is \"NI\" and there is an nested function and it has a nonlocal variable X ,\n",
    "So the X gets overrided and prints the updated value."
   ]
  },
  {
   "cell_type": "code",
   "execution_count": null,
   "id": "2e337e9f",
   "metadata": {},
   "outputs": [],
   "source": []
  }
 ],
 "metadata": {
  "kernelspec": {
   "display_name": "Python 3 (ipykernel)",
   "language": "python",
   "name": "python3"
  },
  "language_info": {
   "codemirror_mode": {
    "name": "ipython",
    "version": 3
   },
   "file_extension": ".py",
   "mimetype": "text/x-python",
   "name": "python",
   "nbconvert_exporter": "python",
   "pygments_lexer": "ipython3",
   "version": "3.9.12"
  }
 },
 "nbformat": 4,
 "nbformat_minor": 5
}
