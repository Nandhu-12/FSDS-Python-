{
 "cells": [
  {
   "cell_type": "markdown",
   "id": "2659310e",
   "metadata": {},
   "source": [
    "# Python Assignment - 25"
   ]
  },
  {
   "cell_type": "markdown",
   "id": "3d6026cd",
   "metadata": {},
   "source": [
    "1) What is the difference between enclosing a list comprehension in square brackets and\n",
    "parentheses?"
   ]
  },
  {
   "cell_type": "code",
   "execution_count": 4,
   "id": "b0b0756c",
   "metadata": {},
   "outputs": [
    {
     "name": "stdout",
     "output_type": "stream",
     "text": [
      "<class 'list'>\n",
      "<class 'tuple'>\n"
     ]
    }
   ],
   "source": [
    "a = [1,2]\n",
    "print(type(a))\n",
    "b = (1,2)\n",
    "print(type(b))"
   ]
  },
  {
   "cell_type": "markdown",
   "id": "de0ef19d",
   "metadata": {},
   "source": [
    "If we enclosing anything inside [] then it is a list which is mutable whereas () is tuple which is immutable"
   ]
  },
  {
   "cell_type": "markdown",
   "id": "00595358",
   "metadata": {},
   "source": [
    "2) What is the relationship between generators and iterators?"
   ]
  },
  {
   "cell_type": "markdown",
   "id": "2f2d4895",
   "metadata": {},
   "source": [
    "Generators are the ones that are used to initiate the values and it uses yield keyword, whereas iterators are the iterable one with next()"
   ]
  },
  {
   "cell_type": "markdown",
   "id": "619b2fee",
   "metadata": {},
   "source": [
    "3) What are the signs that a function is a generator function?"
   ]
  },
  {
   "cell_type": "markdown",
   "id": "218bf23b",
   "metadata": {},
   "source": [
    "generator uses yield statement in it"
   ]
  },
  {
   "cell_type": "markdown",
   "id": "e67f20b8",
   "metadata": {},
   "source": [
    "4) What is the purpose of a yield statement?"
   ]
  },
  {
   "cell_type": "code",
   "execution_count": null,
   "id": "1239ccac",
   "metadata": {},
   "outputs": [],
   "source": [
    "yeild statement is similar to return statement"
   ]
  },
  {
   "cell_type": "code",
   "execution_count": 11,
   "id": "f065e6ef",
   "metadata": {},
   "outputs": [
    {
     "name": "stdout",
     "output_type": "stream",
     "text": [
      "The world is beautiful\n"
     ]
    }
   ],
   "source": [
    "def fun_generator():\n",
    "    yield \"The world is beautiful\"\n",
    "    \n",
    "obj = fun_generator()\n",
    "print(next(obj))\n"
   ]
  },
  {
   "cell_type": "markdown",
   "id": "ea8f4e20",
   "metadata": {},
   "source": [
    "5) What is the relationship between map calls and list comprehensions? Make a comparison and\n",
    "contrast between the two."
   ]
  },
  {
   "cell_type": "markdown",
   "id": "160531d6",
   "metadata": {},
   "source": [
    "List comprehensions are more faster than map"
   ]
  },
  {
   "cell_type": "code",
   "execution_count": null,
   "id": "2041872c",
   "metadata": {},
   "outputs": [],
   "source": []
  }
 ],
 "metadata": {
  "kernelspec": {
   "display_name": "Python 3 (ipykernel)",
   "language": "python",
   "name": "python3"
  },
  "language_info": {
   "codemirror_mode": {
    "name": "ipython",
    "version": 3
   },
   "file_extension": ".py",
   "mimetype": "text/x-python",
   "name": "python",
   "nbconvert_exporter": "python",
   "pygments_lexer": "ipython3",
   "version": "3.9.12"
  }
 },
 "nbformat": 4,
 "nbformat_minor": 5
}
