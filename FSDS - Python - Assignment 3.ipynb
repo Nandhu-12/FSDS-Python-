{
 "cells": [
  {
   "cell_type": "markdown",
   "id": "dabdce01",
   "metadata": {},
   "source": [
    "# FSDS - Python - Assignment 3"
   ]
  },
  {
   "cell_type": "markdown",
   "id": "002c30cb",
   "metadata": {},
   "source": [
    "1. Why are functions advantageous to have in your programs?"
   ]
  },
  {
   "cell_type": "markdown",
   "id": "d679bca1",
   "metadata": {},
   "source": [
    "Using functions in our programs gives a great advantages like,\n",
    "1) Can repeat [resuable of code] a set of logic written inside a single function for multiple times.                            \n",
    "2) Reduces the number of lines[duplicate codes] of code by using function."
   ]
  },
  {
   "cell_type": "markdown",
   "id": "ad014f0b",
   "metadata": {},
   "source": [
    "2. When does the code in a function run: when it's specified or when it's called?"
   ]
  },
  {
   "cell_type": "markdown",
   "id": "3317ebd1",
   "metadata": {},
   "source": [
    "Codes in the function runs when it is called."
   ]
  },
  {
   "cell_type": "markdown",
   "id": "291a6426",
   "metadata": {},
   "source": [
    "3. What statement creates a function?"
   ]
  },
  {
   "cell_type": "markdown",
   "id": "cdf6cd6b",
   "metadata": {},
   "source": [
    "def"
   ]
  },
  {
   "cell_type": "markdown",
   "id": "67a28312",
   "metadata": {},
   "source": [
    "4. What is the difference between a function and a function call?"
   ]
  },
  {
   "cell_type": "markdown",
   "id": "10b755c0",
   "metadata": {},
   "source": [
    "Function means creating a function starting with the def keyword followed by providing logic into the function[defining a function].                                                                                                                      \n",
    "Function Call means Calling the function by providing the parameters to get the output/result."
   ]
  },
  {
   "cell_type": "markdown",
   "id": "bb840a39",
   "metadata": {},
   "source": [
    "5. How many global scopes are there in a Python program? How many local scopes?"
   ]
  },
  {
   "cell_type": "markdown",
   "id": "51d8ccea",
   "metadata": {},
   "source": [
    "Only one global scope is allowed for 1 program execution completion."
   ]
  },
  {
   "cell_type": "markdown",
   "id": "9314b5bf",
   "metadata": {},
   "source": [
    "6. If a function does not have a return statement, what is the return value of a call to that function?"
   ]
  },
  {
   "cell_type": "markdown",
   "id": "50ff768c",
   "metadata": {},
   "source": [
    "It returns None"
   ]
  },
  {
   "cell_type": "markdown",
   "id": "43258fe9",
   "metadata": {},
   "source": [
    "7. How do you make a function variable refer to the global variable?"
   ]
  },
  {
   "cell_type": "markdown",
   "id": "e34b6f42",
   "metadata": {},
   "source": [
    "Using global keyword"
   ]
  },
  {
   "cell_type": "markdown",
   "id": "78d00c40",
   "metadata": {},
   "source": [
    "8. What is the data type of None?"
   ]
  },
  {
   "cell_type": "markdown",
   "id": "2a1f8eb3",
   "metadata": {},
   "source": [
    "NoneType"
   ]
  },
  {
   "cell_type": "markdown",
   "id": "cd3b0d6b",
   "metadata": {},
   "source": [
    "9. What does the sentence import areallyourpetsnamederic do?"
   ]
  },
  {
   "cell_type": "markdown",
   "id": "0145b27b",
   "metadata": {},
   "source": [
    "It imports the module"
   ]
  },
  {
   "cell_type": "markdown",
   "id": "f8fa4819",
   "metadata": {},
   "source": [
    "10.If you had a bacon() feature in a spam module, what would you call it after importing spam?"
   ]
  },
  {
   "cell_type": "markdown",
   "id": "848f540e",
   "metadata": {},
   "source": [
    "spam.bacon()"
   ]
  },
  {
   "cell_type": "markdown",
   "id": "d8a029f5",
   "metadata": {},
   "source": [
    "11. What can you do to save a programme from crashing if it encounters an error?"
   ]
  },
  {
   "cell_type": "markdown",
   "id": "a8ca4ae5",
   "metadata": {},
   "source": [
    "To save a programme from crashing if it encounters an error, We have to use Try and Except to handle the error so that instead of program crashing it moves to the except block and does the action provided there."
   ]
  },
  {
   "cell_type": "markdown",
   "id": "da4dae25",
   "metadata": {},
   "source": [
    "14. What is the purpose of the try clause? What is the purpose of the except clause?"
   ]
  },
  {
   "cell_type": "markdown",
   "id": "ac773058",
   "metadata": {},
   "source": [
    "First try clause will run and it checks if there is any exceptions in the code and if there is no errors then try clause gets executed, but if there is any error then try clause gets skipped and the except clause gets executed."
   ]
  },
  {
   "cell_type": "code",
   "execution_count": null,
   "id": "3f3d5da1",
   "metadata": {},
   "outputs": [],
   "source": []
  }
 ],
 "metadata": {
  "kernelspec": {
   "display_name": "Python 3 (ipykernel)",
   "language": "python",
   "name": "python3"
  },
  "language_info": {
   "codemirror_mode": {
    "name": "ipython",
    "version": 3
   },
   "file_extension": ".py",
   "mimetype": "text/x-python",
   "name": "python",
   "nbconvert_exporter": "python",
   "pygments_lexer": "ipython3",
   "version": "3.9.12"
  }
 },
 "nbformat": 4,
 "nbformat_minor": 5
}
