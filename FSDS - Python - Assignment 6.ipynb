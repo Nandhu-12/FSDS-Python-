{
 "cells": [
  {
   "cell_type": "markdown",
   "id": "f0db7cb1",
   "metadata": {},
   "source": [
    "# FSDS - Python - Assignment 6"
   ]
  },
  {
   "cell_type": "markdown",
   "id": "25822f21",
   "metadata": {},
   "source": [
    "1. What are escape characters, and how do you use them?"
   ]
  },
  {
   "cell_type": "code",
   "execution_count": 2,
   "id": "c8bac055",
   "metadata": {},
   "outputs": [
    {
     "name": "stdout",
     "output_type": "stream",
     "text": [
      "I have '100' Rupees\n"
     ]
    }
   ],
   "source": [
    "print('I have \\'100\\' Rupees')"
   ]
  },
  {
   "cell_type": "markdown",
   "id": "a92215ca",
   "metadata": {},
   "source": [
    "Here backslash \\ is an escape char [it escapes one item next to it] and followed by \\ we can use our char to print"
   ]
  },
  {
   "cell_type": "markdown",
   "id": "99e400ed",
   "metadata": {},
   "source": [
    "2. What do the escape characters n and t stand for?"
   ]
  },
  {
   "cell_type": "markdown",
   "id": "1c5319a4",
   "metadata": {},
   "source": [
    "\\n --> newline                                                                                                                  \n",
    "\\t --> tab"
   ]
  },
  {
   "cell_type": "markdown",
   "id": "14ab0ff1",
   "metadata": {},
   "source": [
    "3. What is the way to include backslash characters in a string?"
   ]
  },
  {
   "cell_type": "code",
   "execution_count": 5,
   "id": "1dbe48e0",
   "metadata": {},
   "outputs": [
    {
     "name": "stdout",
     "output_type": "stream",
     "text": [
      "I got 80\\100 marks\n"
     ]
    }
   ],
   "source": [
    "print('I got 80\\\\100 marks')"
   ]
  },
  {
   "cell_type": "markdown",
   "id": "c378e48e",
   "metadata": {},
   "source": [
    "4. The string \"Howl's Moving Castle\" is a correct value. Why isn't the single quote character in the word Howl's not escaped a problem?"
   ]
  },
  {
   "cell_type": "code",
   "execution_count": 6,
   "id": "db17b351",
   "metadata": {},
   "outputs": [
    {
     "name": "stdout",
     "output_type": "stream",
     "text": [
      "Howl's Moving Castle\n"
     ]
    }
   ],
   "source": [
    "# \"Howl's Moving Castle\" should be printed as,\n",
    "print(\"Howl\\'s Moving Castle\")"
   ]
  },
  {
   "cell_type": "markdown",
   "id": "dcd70143",
   "metadata": {},
   "source": [
    "5. How do you write a string of newlines if you don&#39;t want to use the n character?"
   ]
  },
  {
   "cell_type": "markdown",
   "id": "4abe47df",
   "metadata": {},
   "source": [
    "By using print function in each line. print()"
   ]
  },
  {
   "cell_type": "markdown",
   "id": "450edf6a",
   "metadata": {},
   "source": [
    "6. What are the values of the given expressions?                                                                         \n",
    "'Hello, world!'[1]\n",
    "\n",
    "'Hello, world!'[0:5]\n",
    "\n",
    "'Hello, world!'[:5]\n",
    "\n",
    "'Hello, world!'[3:]"
   ]
  },
  {
   "cell_type": "code",
   "execution_count": 7,
   "id": "01052c19",
   "metadata": {},
   "outputs": [
    {
     "name": "stdout",
     "output_type": "stream",
     "text": [
      "e\n",
      "Hello\n",
      "Hello\n",
      "lo, world!\n"
     ]
    }
   ],
   "source": [
    "a = 'Hello, world!'\n",
    "print(a[1])\n",
    "print(a[0:5])\n",
    "print(a[:5])\n",
    "print(a[3:])"
   ]
  },
  {
   "cell_type": "markdown",
   "id": "fc0ed4c4",
   "metadata": {},
   "source": [
    "7. What are the values of the following expressions?                                                                            \n",
    "'Hello'.upper()\n",
    "\n",
    "'Hello'.upper().isupper()\n",
    "\n",
    "'Hello'.upper().lower()"
   ]
  },
  {
   "cell_type": "code",
   "execution_count": 8,
   "id": "7c510c4f",
   "metadata": {},
   "outputs": [
    {
     "name": "stdout",
     "output_type": "stream",
     "text": [
      "HELLO\n",
      "True\n",
      "hello\n"
     ]
    }
   ],
   "source": [
    "print('Hello'.upper())\n",
    "print('Hello'.upper().isupper())\n",
    "print('Hello'.upper().lower())"
   ]
  },
  {
   "cell_type": "markdown",
   "id": "107e5f18",
   "metadata": {},
   "source": [
    "8. What are the values of the following expressions?                                                                   \n",
    "'Remember, remember, the fifth of July.'.split()\n",
    "\n",
    "'-'.join('There can only one.'.split())"
   ]
  },
  {
   "cell_type": "code",
   "execution_count": 9,
   "id": "b67224f6",
   "metadata": {},
   "outputs": [
    {
     "name": "stdout",
     "output_type": "stream",
     "text": [
      "['Remember,', 'remember,', 'the', 'fifth', 'of', 'July.']\n",
      "There-can-only-one.\n"
     ]
    }
   ],
   "source": [
    "print('Remember, remember, the fifth of July.'.split())\n",
    "print('-'.join('There can only one.'.split()))"
   ]
  },
  {
   "cell_type": "markdown",
   "id": "b7e7b74f",
   "metadata": {},
   "source": [
    "9. What are the methods for right-justifying, left-justifying, and centering a string?"
   ]
  },
  {
   "cell_type": "markdown",
   "id": "33ad6c8e",
   "metadata": {},
   "source": [
    "rjust(),ljust(),center()"
   ]
  },
  {
   "cell_type": "markdown",
   "id": "56e4c0af",
   "metadata": {},
   "source": [
    "10. What is the best way to remove whitespace characters from the start or end?"
   ]
  },
  {
   "cell_type": "code",
   "execution_count": 10,
   "id": "b66ed57f",
   "metadata": {},
   "outputs": [
    {
     "name": "stdout",
     "output_type": "stream",
     "text": [
      "I have 1000 color pens at my home\n"
     ]
    }
   ],
   "source": [
    "a = '          I have 1000 color pens at my home         '\n",
    "print(a.strip())"
   ]
  },
  {
   "cell_type": "code",
   "execution_count": null,
   "id": "e49392ea",
   "metadata": {},
   "outputs": [],
   "source": []
  }
 ],
 "metadata": {
  "kernelspec": {
   "display_name": "Python 3 (ipykernel)",
   "language": "python",
   "name": "python3"
  },
  "language_info": {
   "codemirror_mode": {
    "name": "ipython",
    "version": 3
   },
   "file_extension": ".py",
   "mimetype": "text/x-python",
   "name": "python",
   "nbconvert_exporter": "python",
   "pygments_lexer": "ipython3",
   "version": "3.9.12"
  }
 },
 "nbformat": 4,
 "nbformat_minor": 5
}
