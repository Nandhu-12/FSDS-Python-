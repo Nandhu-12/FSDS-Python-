{
 "cells": [
  {
   "cell_type": "markdown",
   "id": "e77d49f5",
   "metadata": {},
   "source": [
    "# FSDS - Python - Assignment 4"
   ]
  },
  {
   "cell_type": "markdown",
   "id": "2bac4274",
   "metadata": {},
   "source": [
    "1. What exactly is [ ]?"
   ]
  },
  {
   "cell_type": "markdown",
   "id": "4a074ab4",
   "metadata": {},
   "source": [
    "Answer : List"
   ]
  },
  {
   "cell_type": "markdown",
   "id": "3121bbef",
   "metadata": {},
   "source": [
    "2. In a list of values stored in a variable called spam, how would you assign the value 'hello' as the third value? \n",
    "(Assume [2, 4, 6, 8, 10] are in spam.)"
   ]
  },
  {
   "cell_type": "code",
   "execution_count": 14,
   "id": "43666e63",
   "metadata": {},
   "outputs": [
    {
     "name": "stdout",
     "output_type": "stream",
     "text": [
      "[2, 4, 'hello', 6, 8, 10]\n"
     ]
    }
   ],
   "source": [
    "spam = [2,4,6,8,10]\n",
    "spam.insert(2,'hello')\n",
    "print(spam)"
   ]
  },
  {
   "cell_type": "markdown",
   "id": "739ecce7",
   "metadata": {},
   "source": [
    "Let's;s pretend the spam includes the list ['a','b','c','d'] for the next three queries."
   ]
  },
  {
   "cell_type": "markdown",
   "id": "91b517d3",
   "metadata": {},
   "source": [
    "3. What is the value of spam[int(int('3' * 2) / 11)]?"
   ]
  },
  {
   "cell_type": "code",
   "execution_count": 15,
   "id": "c5faacbf",
   "metadata": {},
   "outputs": [
    {
     "name": "stdout",
     "output_type": "stream",
     "text": [
      "d\n"
     ]
    }
   ],
   "source": [
    "spam = ['a','b','c','d']\n",
    "print(spam[int(int(\"3\"*2)/11)])"
   ]
  },
  {
   "cell_type": "markdown",
   "id": "687845f6",
   "metadata": {},
   "source": [
    "4. What is the value of spam[-1]?"
   ]
  },
  {
   "cell_type": "markdown",
   "id": "cef9dba5",
   "metadata": {},
   "source": [
    "Answer : d"
   ]
  },
  {
   "cell_type": "markdown",
   "id": "1e15ed81",
   "metadata": {},
   "source": [
    "5. What is the value of spam[:2]?"
   ]
  },
  {
   "cell_type": "markdown",
   "id": "b16fe1eb",
   "metadata": {},
   "source": [
    "Answer : a,b"
   ]
  },
  {
   "cell_type": "markdown",
   "id": "b060f4de",
   "metadata": {},
   "source": [
    "Let's;s pretend bacon has the list [3.14,'cat',11,'cat',True] for the next three questions."
   ]
  },
  {
   "cell_type": "markdown",
   "id": "158b14a1",
   "metadata": {},
   "source": [
    "6. What is the value of bacon.index('cat')?"
   ]
  },
  {
   "cell_type": "markdown",
   "id": "75595bda",
   "metadata": {},
   "source": [
    "Answer : 1"
   ]
  },
  {
   "cell_type": "markdown",
   "id": "1e243923",
   "metadata": {},
   "source": [
    "7. How does bacon.append(99) change the look of the list value in bacon?"
   ]
  },
  {
   "cell_type": "code",
   "execution_count": 16,
   "id": "700b0dc2",
   "metadata": {},
   "outputs": [
    {
     "name": "stdout",
     "output_type": "stream",
     "text": [
      "[3.14, 'cat', 11, 'cat', True, 99]\n"
     ]
    }
   ],
   "source": [
    "# Answer :\n",
    "\n",
    "bacon = [3.14,'cat',11,'cat',True]\n",
    "bacon.append(99)\n",
    "print(bacon)"
   ]
  },
  {
   "cell_type": "markdown",
   "id": "f2565b15",
   "metadata": {},
   "source": [
    "8. How does bacon.remove('cat') change the look of the list in bacon?"
   ]
  },
  {
   "cell_type": "code",
   "execution_count": 17,
   "id": "86d6b323",
   "metadata": {},
   "outputs": [
    {
     "name": "stdout",
     "output_type": "stream",
     "text": [
      "[3.14, 11, 'cat', True]\n"
     ]
    }
   ],
   "source": [
    "b = [3.14,'cat',11,'cat',True]\n",
    "b.remove('cat')\n",
    "print(b)"
   ]
  },
  {
   "cell_type": "markdown",
   "id": "d4db8308",
   "metadata": {},
   "source": [
    "9. What are the list concatenation and list replication operators?"
   ]
  },
  {
   "cell_type": "markdown",
   "id": "24fbdfdd",
   "metadata": {},
   "source": [
    "Answer : For list concatenation we use + operator and for list replication we use * operator."
   ]
  },
  {
   "cell_type": "markdown",
   "id": "5c08cbe2",
   "metadata": {},
   "source": [
    "10. What is difference between the list methods append() and insert()?"
   ]
  },
  {
   "cell_type": "markdown",
   "id": "363ff82a",
   "metadata": {},
   "source": [
    "Answer :\n",
    "\n",
    " In append() method we give single parameter and that value gets appended at the end of the list.\n",
    "\n",
    " In insert() method we will give 2 parameter(index and value).Here, the value gets appended at the particular index in the list."
   ]
  },
  {
   "cell_type": "markdown",
   "id": "d4899d71",
   "metadata": {},
   "source": [
    "11. What are the two methods for removing items from a list?"
   ]
  },
  {
   "cell_type": "markdown",
   "id": "6eb17373",
   "metadata": {},
   "source": [
    "Answer : remove() and pop()"
   ]
  },
  {
   "cell_type": "markdown",
   "id": "174522a2",
   "metadata": {},
   "source": [
    "12. Describe how list values and string values are identical."
   ]
  },
  {
   "cell_type": "markdown",
   "id": "175523a5",
   "metadata": {},
   "source": [
    "Answer : list and strings both are in sequences"
   ]
  },
  {
   "cell_type": "markdown",
   "id": "7795535e",
   "metadata": {},
   "source": [
    "13. What's the difference between tuples and lists?"
   ]
  },
  {
   "cell_type": "markdown",
   "id": "d861d81d",
   "metadata": {},
   "source": [
    "Answer :\n",
    "\n",
    "Lists are mutable whereas Tuples are Immutable.\n",
    "Lists is denoted by [] whereas Tuples are denoted by ()"
   ]
  },
  {
   "cell_type": "markdown",
   "id": "33119763",
   "metadata": {},
   "source": [
    "14. How do you type a tuple value that only contains the integer 42?"
   ]
  },
  {
   "cell_type": "code",
   "execution_count": 18,
   "id": "8c5c57e4",
   "metadata": {},
   "outputs": [
    {
     "name": "stdout",
     "output_type": "stream",
     "text": [
      "42\n"
     ]
    }
   ],
   "source": [
    "t = (42)\n",
    "print(t)"
   ]
  },
  {
   "cell_type": "markdown",
   "id": "5cbd8f66",
   "metadata": {},
   "source": [
    "15. How do you get a list value's tuple form? How do you get a tuple value's list form?"
   ]
  },
  {
   "cell_type": "code",
   "execution_count": 19,
   "id": "49ab3f7c",
   "metadata": {},
   "outputs": [
    {
     "name": "stdout",
     "output_type": "stream",
     "text": [
      "(1, 2, 3, 4, 5)\n",
      "[6, 7, 8, 9, 10]\n"
     ]
    }
   ],
   "source": [
    "l = [1,2,3,4,5]\n",
    "print(tuple(l))\n",
    "t = (6,7,8,9,10)\n",
    "print(list(t))"
   ]
  },
  {
   "cell_type": "markdown",
   "id": "49cdfbde",
   "metadata": {},
   "source": [
    "16. Variables that \"contain\" list values are not necessarily lists themselves. Instead, what do they contain?"
   ]
  },
  {
   "cell_type": "markdown",
   "id": "80922a4c",
   "metadata": {},
   "source": [
    "Answer : String"
   ]
  },
  {
   "cell_type": "code",
   "execution_count": null,
   "id": "766168bf",
   "metadata": {},
   "outputs": [],
   "source": []
  }
 ],
 "metadata": {
  "kernelspec": {
   "display_name": "Python 3 (ipykernel)",
   "language": "python",
   "name": "python3"
  },
  "language_info": {
   "codemirror_mode": {
    "name": "ipython",
    "version": 3
   },
   "file_extension": ".py",
   "mimetype": "text/x-python",
   "name": "python",
   "nbconvert_exporter": "python",
   "pygments_lexer": "ipython3",
   "version": "3.9.12"
  }
 },
 "nbformat": 4,
 "nbformat_minor": 5
}
