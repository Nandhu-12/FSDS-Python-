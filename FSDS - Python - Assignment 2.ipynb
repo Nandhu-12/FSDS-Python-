{
 "cells": [
  {
   "cell_type": "markdown",
   "id": "d069774e",
   "metadata": {},
   "source": [
    "# FSDS - Python - Assignment 2"
   ]
  },
  {
   "cell_type": "markdown",
   "id": "b6a14103",
   "metadata": {},
   "source": [
    "1.What are the two values of the Boolean data type? How do you write them?"
   ]
  },
  {
   "cell_type": "markdown",
   "id": "789492c3",
   "metadata": {},
   "source": [
    "Answer : True , False. First letter of boolean data types should be in capital"
   ]
  },
  {
   "cell_type": "markdown",
   "id": "a4f538b1",
   "metadata": {},
   "source": [
    "2. What are the three different types of Boolean operators?"
   ]
  },
  {
   "cell_type": "markdown",
   "id": "35176f67",
   "metadata": {},
   "source": [
    "Answer : AND , OR , NOT"
   ]
  },
  {
   "cell_type": "markdown",
   "id": "c02e5277",
   "metadata": {},
   "source": [
    "3.Make a list of each Boolean operator's truth tables (i.e. every possible combination of Boolean values for the operator and\n",
    "what it evaluate )."
   ]
  },
  {
   "cell_type": "markdown",
   "id": "b0d765ec",
   "metadata": {},
   "source": [
    "Answer : 1 = True , 0 = False\n",
    "\n",
    "     AND table\n",
    "     T  T = T\n",
    "     T  F = F\n",
    "     F  T = F\n",
    "     F  F = F\n",
    "\n",
    "     OR table\n",
    "     T  T = T\n",
    "     T  F = T\n",
    "     F  T = T\n",
    "     F  F = F\n",
    "\n",
    "     NOT \n",
    "     NOT(True) = False\n",
    "     NOT(False) = True"
   ]
  },
  {
   "cell_type": "markdown",
   "id": "6d6baa2f",
   "metadata": {},
   "source": [
    "4. What are the values of the following expressions?"
   ]
  },
  {
   "cell_type": "markdown",
   "id": "2d3dfcd6",
   "metadata": {},
   "source": [
    "Answer :\n",
    "\n",
    "(5 > 4) and (3 == 5)----------------- False\n",
    "\n",
    "not (5 > 4)-------------------------- False\n",
    "\n",
    "(5 > 4) or (3 == 5)------------------ True\n",
    "\n",
    "not ((5 > 4) or (3 == 5))------------ False\n",
    "\n",
    "(True and True) and (True == False)-- False\n",
    "\n",
    "(not False) or (not True)------------ True"
   ]
  },
  {
   "cell_type": "markdown",
   "id": "a7fe5d49",
   "metadata": {},
   "source": [
    "5. What are the six comparison operators?"
   ]
  },
  {
   "cell_type": "markdown",
   "id": "1718d2e1",
   "metadata": {},
   "source": [
    "Answer : == , != or <> , > , >= , < , <="
   ]
  },
  {
   "cell_type": "markdown",
   "id": "f26141e2",
   "metadata": {},
   "source": [
    "6. How do you tell the difference between the equal to and assignment operators?Describe a\n",
    "condition and when you would use one."
   ]
  },
  {
   "cell_type": "code",
   "execution_count": 7,
   "id": "45694d88",
   "metadata": {},
   "outputs": [],
   "source": [
    "#Answer :  for instance : \n",
    "a = 5 \n",
    "b = 10\n",
    "\n",
    "if a == b :   # here we are comparing the a and b is equal or not\n",
    "    print(a)\n",
    "\n",
    "elif a!=b :   \n",
    "    a += b     # here b value is assigned to a if condition is true"
   ]
  },
  {
   "cell_type": "markdown",
   "id": "567ef4db",
   "metadata": {},
   "source": [
    "7. Identify the three blocks in this code:                                                                                 \n",
    "spam = 0                                                                                                                      \n",
    "if spam == 10:                                                                                                                 \n",
    "print('eggs')                                                                                                                  \n",
    "if spam > 5:                                                                                                                   \n",
    "print('bacon')                                                                                                             \n",
    "else:                                                                                                                      \n",
    "print('ham')                                                                                                                   \n",
    "print('spam')                                                                                                            \n",
    "print('spam')"
   ]
  },
  {
   "cell_type": "markdown",
   "id": "518e0782",
   "metadata": {},
   "source": [
    "Answer :\n",
    "\n",
    "Block 1 :\n",
    "\n",
    "if spam == 10: print('eggs')\n",
    "\n",
    "Block 2 :\n",
    "\n",
    "if spam > 5: print('bacon')\n",
    "\n",
    "Block 3 :\n",
    "\n",
    "else: print('ham') print('spam') print('spam')"
   ]
  },
  {
   "cell_type": "markdown",
   "id": "f07160a7",
   "metadata": {},
   "source": [
    "8. Write code that prints Hello if 1 is stored in spam, prints Howdy if 2 is stored in spam, and prints\n",
    "Greetings! if anything else is stored in spam."
   ]
  },
  {
   "cell_type": "code",
   "execution_count": 9,
   "id": "1cc6e751",
   "metadata": {},
   "outputs": [
    {
     "name": "stdout",
     "output_type": "stream",
     "text": [
      "2\n",
      "Howdy\n"
     ]
    }
   ],
   "source": [
    "spam = input()\n",
    "\n",
    "if spam == \"1\" :\n",
    "    print(\"Hello\")\n",
    "    \n",
    "elif spam == \"2\" :\n",
    "    print(\"Howdy\")\n",
    "    \n",
    "else :\n",
    "    print(\"Greetings!\")"
   ]
  },
  {
   "cell_type": "markdown",
   "id": "da45c9a2",
   "metadata": {},
   "source": [
    "9.If your programme is stuck in an endless loop, what keys you’ll press?"
   ]
  },
  {
   "cell_type": "markdown",
   "id": "ddab51d9",
   "metadata": {},
   "source": [
    "Answer : break"
   ]
  },
  {
   "cell_type": "markdown",
   "id": "29ed07cb",
   "metadata": {},
   "source": [
    "10. How can you tell the difference between break and continue?"
   ]
  },
  {
   "cell_type": "markdown",
   "id": "6e36ba53",
   "metadata": {},
   "source": [
    "Answer : Continue : If the condition is True, continue statement skips that line and move to the next line for checking\n",
    "        the condition.\n",
    "\n",
    "break : breaks out of the loop if the condition is True"
   ]
  },
  {
   "cell_type": "markdown",
   "id": "93f4fcc6",
   "metadata": {},
   "source": [
    "11. In a for loop, what is the difference between range(10), range(0, 10), and range(0, 10, 1)?"
   ]
  },
  {
   "cell_type": "markdown",
   "id": "f598e275",
   "metadata": {},
   "source": [
    "Answer :\n",
    "\n",
    "     range (10)     # prints 0 to 9, by default it take the start as 0 if start is not mentioned and 10 is exclusive.\n",
    "     range (0,10)   # prints 0 to 9, As start is given as 0 and 10 is exclusive.\n",
    "     range (0,10,1) # prints 0 to 9, As start is given as 0 and 10 is exclusive and with 1 step."
   ]
  },
  {
   "cell_type": "code",
   "execution_count": 10,
   "id": "0696ea59",
   "metadata": {},
   "outputs": [
    {
     "name": "stdout",
     "output_type": "stream",
     "text": [
      "0 1 2 3 4 5 6 7 8 9 \n",
      "0 1 2 3 4 5 6 7 8 9 \n",
      "0 1 2 3 4 5 6 7 8 9 "
     ]
    }
   ],
   "source": [
    "for i in range(10) :\n",
    "    print(i , end = \" \")\n",
    "print()\n",
    "for i in range(0,10) :\n",
    "    print(i , end = \" \")\n",
    "print()\n",
    "for i in range(0,10,1) :\n",
    "    print(i , end = \" \")"
   ]
  },
  {
   "cell_type": "markdown",
   "id": "d4b3b39c",
   "metadata": {},
   "source": [
    "12. Write a short program that prints the numbers 1 to 10 using a for loop. Then write an equivalent\n",
    "program that prints the numbers 1 to 10 using a while loop."
   ]
  },
  {
   "cell_type": "code",
   "execution_count": 11,
   "id": "0d7beaa4",
   "metadata": {},
   "outputs": [
    {
     "name": "stdout",
     "output_type": "stream",
     "text": [
      "0 1 2 3 4 5 6 7 8 9 10 \n",
      "1 2 3 4 5 6 7 8 9 10 "
     ]
    }
   ],
   "source": [
    "for i in range(0,11) :\n",
    "    print(i, end = \" \")\n",
    "print()\n",
    "\n",
    "i = 1\n",
    "while i > 0 :\n",
    "    if i != 11 :\n",
    "        print(i, end = \" \")\n",
    "    else :\n",
    "        break\n",
    "    i = i+1"
   ]
  },
  {
   "cell_type": "markdown",
   "id": "60e33965",
   "metadata": {},
   "source": [
    "13. If you had a function named bacon() inside a module named spam, how would you call it after\n",
    "importing spam?"
   ]
  },
  {
   "cell_type": "markdown",
   "id": "4949df83",
   "metadata": {},
   "source": [
    "Answer : By using def keyword"
   ]
  },
  {
   "cell_type": "code",
   "execution_count": null,
   "id": "f23617da",
   "metadata": {},
   "outputs": [],
   "source": []
  }
 ],
 "metadata": {
  "kernelspec": {
   "display_name": "Python 3 (ipykernel)",
   "language": "python",
   "name": "python3"
  },
  "language_info": {
   "codemirror_mode": {
    "name": "ipython",
    "version": 3
   },
   "file_extension": ".py",
   "mimetype": "text/x-python",
   "name": "python",
   "nbconvert_exporter": "python",
   "pygments_lexer": "ipython3",
   "version": "3.9.12"
  }
 },
 "nbformat": 4,
 "nbformat_minor": 5
}
